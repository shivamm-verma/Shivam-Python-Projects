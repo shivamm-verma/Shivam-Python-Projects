{
 "cells": [
  {
   "cell_type": "markdown",
   "metadata": {},
   "source": [
    "## My First Python Juptyer Lab/Notebook"
   ]
  },
  {
   "cell_type": "markdown",
   "metadata": {},
   "source": [
    "check_equal_by_idl() & check_equal_by_value() ~ function definitions"
   ]
  },
  {
   "cell_type": "code",
   "execution_count": 1,
   "metadata": {
    "tags": []
   },
   "outputs": [],
   "source": [
    "# a= 0\n",
    "# b = a\n",
    "# print(id(a) == id(b))\n",
    "\n",
    "def check_equal_by_id (val_1, val_2) :\n",
    "    if id(val_1) == id(val_2):\n",
    "        return True\n",
    "    else:\n",
    "        return False\n",
    "    \n",
    "def check_equal_by_value (val_1, val_2) :\n",
    "    if (val_1 == val_2):\n",
    "        return True\n",
    "    else:\n",
    "        return False\n",
    "\n"
   ]
  },
  {
   "cell_type": "code",
   "execution_count": 2,
   "metadata": {
    "tags": []
   },
   "outputs": [
    {
     "name": "stdout",
     "output_type": "stream",
     "text": [
      "0 0\n",
      "True\n",
      "True\n"
     ]
    }
   ],
   "source": [
    "import random\n",
    "\n",
    "num1 = random.randint(0,1)\n",
    "num2 = random.randint(0,1)\n",
    "print(num1, num2)\n",
    "print(check_equal_by_id(num1,num2))\n",
    "print(check_equal_by_value(num1,num2))"
   ]
  },
  {
   "cell_type": "markdown",
   "metadata": {},
   "source": [
    "## Password Generation in python"
   ]
  },
  {
   "cell_type": "code",
   "execution_count": 3,
   "metadata": {},
   "outputs": [
    {
     "name": "stdout",
     "output_type": "stream",
     "text": [
      "Example Password is => 9kMItY~nJTZC\n"
     ]
    }
   ],
   "source": [
    "#Whole Mechanicsm\n",
    "import random\n",
    "characters = \"abcdefghijklmnopqrstuvwxyzABCDEFGHIJKLMNOPQRSTUVWXYZ0123456789!#$%&()*+,-<>?@_~\"\n",
    "\n",
    "char_alpha = \"abcdefghijklmnopqrstuvwxyzABCDEFGHIJKLMNOPQRSTUVWXYZ\"\n",
    "char_digits = \"0123456789\"\n",
    "char_alphanum = \"abcdefghijklmnopqrstuvwxyzABCDEFGHIJKLMNOPQRSTUVWXYZ0123456789\"\n",
    "char_symb = \"!#$%&()*+,-?@_~\"\n",
    "\n",
    "# pass_length = int(input(\"Enter Length: \"))\n",
    "pass_length = 12\n",
    "i = 1\n",
    "pass_list = []\n",
    "while (i<=pass_length):\n",
    "    pass_elem = characters[random.randint(0,len(characters)-1)]\n",
    "    if (i==1) and (pass_elem in char_symb):\n",
    "        pass_elem = characters[random.randint(0,len(characters)-1)]\n",
    "    pass_list.append(pass_elem)\n",
    "    i += 1\n",
    "password = \"\".join(pass_list)\n",
    "print(f\"Example Password is => {password}\")\n"
   ]
  },
  {
   "cell_type": "markdown",
   "metadata": {},
   "source": []
  },
  {
   "cell_type": "markdown",
   "metadata": {},
   "source": [
    "### Main Files"
   ]
  },
  {
   "cell_type": "markdown",
   "metadata": {
    "tags": []
   },
   "source": [
    "Allowed Character variables"
   ]
  },
  {
   "cell_type": "code",
   "execution_count": 4,
   "metadata": {},
   "outputs": [],
   "source": [
    "characters = \"abcdefghijklmnopqrstuvwxyzABCDEFGHIJKLMNOPQRSTUVWXYZ0123456789!#$%&()*+,-<>?@_~\"\n",
    "\n",
    "char_alpha = \"abcdefghijklmnopqrstuvwxyzABCDEFGHIJKLMNOPQRSTUVWXYZ\"\n",
    "char_digits = \"0123456789\"\n",
    "char_alphanum = \"abcdefghijklmnopqrstuvwxyzABCDEFGHIJKLMNOPQRSTUVWXYZ0123456789\"\n",
    "char_symb = \"!#$%&()*+,-?@_~\""
   ]
  },
  {
   "cell_type": "markdown",
   "metadata": {},
   "source": [
    "## Password Generator Function"
   ]
  },
  {
   "cell_type": "code",
   "execution_count": 5,
   "metadata": {},
   "outputs": [],
   "source": [
    "def passGenerator(length=6, arrayOfChar=[]):\n",
    "    i, pass_list = 1, []\n",
    "    while (i<=pass_length):\n",
    "        pass_elem = arrayOfChar[random.randint(0,len(arrayOfChar)-1)]\n",
    "        if (i==1) and (pass_elem in char_symb):\n",
    "            pass_elem = arrayOfChar[random.randint(0,len(arrayOfChar)-1)]\n",
    "        pass_list.append(pass_elem)\n",
    "        i += 1\n",
    "    password = \"\".join(pass_list)\n",
    "    return password"
   ]
  },
  {
   "cell_type": "markdown",
   "metadata": {},
   "source": []
  },
  {
   "cell_type": "code",
   "execution_count": 6,
   "metadata": {},
   "outputs": [
    {
     "name": "stdout",
     "output_type": "stream",
     "text": [
      "Password(alpanum)=>  sYbn7C2iSh0L\n",
      "Password(digits)=>  103525736201\n",
      "Password(alphabets)=>  KpjbDsGCOUEd\n",
      "Password(characters)=>  2Ga_)+02K$Ip\n",
      "Password(sumbols)=>  ,!@@$&~#+-,*\n"
     ]
    }
   ],
   "source": [
    "print(\"Password(alpanum)=> \",passGenerator(8, char_alphanum))\n",
    "print(\"Password(digits)=> \",passGenerator(8, char_digits))\n",
    "print(\"Password(alphabets)=> \",passGenerator(8, char_alpha))\n",
    "print(\"Password(characters)=> \",passGenerator(8, characters))\n",
    "print(\"Password(sumbols)=> \",passGenerator(8, char_symb))"
   ]
  },
  {
   "cell_type": "code",
   "execution_count": 7,
   "metadata": {},
   "outputs": [],
   "source": [
    "# Correct way of taking random elem out of a list/string\n",
    "# charac = characters\n",
    "# print(len(charac))\n",
    "# print(charac[len(charac)-1])"
   ]
  }
 ],
 "metadata": {
  "kernelspec": {
   "display_name": "Python 3 (ipykernel)",
   "language": "python",
   "name": "python3"
  },
  "language_info": {
   "codemirror_mode": {
    "name": "ipython",
    "version": 3
   },
   "file_extension": ".py",
   "mimetype": "text/x-python",
   "name": "python",
   "nbconvert_exporter": "python",
   "pygments_lexer": "ipython3",
   "version": "3.11.2"
  }
 },
 "nbformat": 4,
 "nbformat_minor": 4
}
